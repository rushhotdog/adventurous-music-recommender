{
 "cells": [
  {
   "cell_type": "code",
   "execution_count": 1,
   "metadata": {
    "colab": {
     "base_uri": "https://localhost:8080/",
     "height": 258
    },
    "colab_type": "code",
    "id": "XldHumOgkiOV",
    "outputId": "e8a10b76-7b5f-401b-b39a-8d10ea2f504f"
   },
   "outputs": [],
   "source": [
    "# install pyspark if needed\n",
    "# !pip install pyspark"
   ]
  },
  {
   "cell_type": "code",
   "execution_count": null,
   "metadata": {
    "colab": {},
    "colab_type": "code",
    "id": "5hXviX2L0Ahq"
   },
   "outputs": [],
   "source": [
    "# lit, sum, when, count and row were only used to check values,\n",
    "# consider dropping when cleaning up the notebook.\n",
    "import pandas as pd\n",
    "\n",
    "from pyspark.sql import SparkSession, Row\n",
    "from pyspark.sql.functions import col, count, isnan, lit, sum, when\n",
    "\n",
    "from pyspark.ml.evaluation import RegressionEvaluator\n",
    "from pyspark.ml.recommendation import ALS\n",
    "from pyspark.ml.feature import StringIndexer\n",
    "from pyspark.ml import Pipeline"
   ]
  },
  {
   "cell_type": "code",
   "execution_count": null,
   "metadata": {
    "colab": {},
    "colab_type": "code",
    "id": "AKi3oL7xkmpn"
   },
   "outputs": [],
   "source": [
    "# use config to adjust memory usage (use to prevent memory issues)\n",
    "spark = SparkSession.builder.config('spark.driver.memory', '8g').appName('rec').getOrCreate()"
   ]
  },
  {
   "cell_type": "code",
   "execution_count": null,
   "metadata": {
    "colab": {
     "base_uri": "https://localhost:8080/",
     "height": 34
    },
    "colab_type": "code",
    "id": "34O8KIOVN0md",
    "outputId": "f40d4c77-3457-4c00-c29e-a970a4b6ed4e"
   },
   "outputs": [
    {
     "name": "stdout",
     "output_type": "stream",
     "text": [
      "/content\n"
     ]
    }
   ],
   "source": [
    "!pwd"
   ]
  },
  {
   "cell_type": "code",
   "execution_count": null,
   "metadata": {
    "colab": {},
    "colab_type": "code",
    "id": "sX8ZrBxyydP4"
   },
   "outputs": [],
   "source": [
    "# load in saved data\n",
    "transformed = spark.read.csv('/content/drive/My Drive/Colab Notebooks/data/transformed_data.csv')"
   ]
  },
  {
   "cell_type": "code",
   "execution_count": null,
   "metadata": {
    "colab": {},
    "colab_type": "code",
    "id": "CQ_sDtRxtBFi"
   },
   "outputs": [],
   "source": [
    "# load in data from original tsv file. When working, use the cleaned version 'transformed'\n",
    "data = spark.read.csv('/content/drive/My Drive/Colab Notebooks/data/amazon_reviews_us_Digital_Music_Purchase_v1_00.tsv', \n",
    "                      inferSchema=True, header=True, sep='\\t')"
   ]
  },
  {
   "cell_type": "code",
   "execution_count": null,
   "metadata": {
    "colab": {},
    "colab_type": "code",
    "id": "UvWtXC4iyI6N"
   },
   "outputs": [],
   "source": [
    "# *dont know why i would load dataframe this way, but this is another way to load in the data*\n",
    "# line = spark.read.option('header','true').text('amazon_reviews_us_Digital_Music_Purchase_v1_00.tsv').rdd\n",
    "\n",
    "# parts = line.map(lambda row: row.value.split(\"\\t\"))\n",
    "# ratingsRDD = parts.map(lambda p: Row(customer_id=int(p[1]), musicId=int(p[5]),\n",
    "#                                      rating=float(p[7])))\n",
    "\n",
    "# ratings = spark.createDataFrame(ratingsRDD)"
   ]
  },
  {
   "cell_type": "code",
   "execution_count": null,
   "metadata": {
    "colab": {},
    "colab_type": "code",
    "id": "7J3sfT4yvjU4"
   },
   "outputs": [],
   "source": [
    "# *these lines of code were used to create transformed dataset, use this when transformed.csv is missing*\n",
    "# data.show(10, truncate=True)\n",
    "\n",
    "# rec_data = data.select(data['customer_id'], data['product_title'], data['star_rating'])\n",
    "# rec_data.show(10, truncate=True)\n",
    "\n",
    "# *indexing user and product because ALS model only takes numerical values*\n",
    "# ***IMPORTANT***: issue with indexer, it generates different indices for the same customer id\n",
    "# indexer = [StringIndexer(inputCol=column, outputCol=column+'_index')\n",
    "#             for column in list(set(rec_data.columns)-set(['star_rating']))]\n",
    "\n",
    "# pipeline = Pipeline(stages=indexer)\n",
    "# transformed = pipeline.fit(rec_data).transform(rec_data)"
   ]
  },
  {
   "cell_type": "code",
   "execution_count": null,
   "metadata": {
    "colab": {
     "base_uri": "https://localhost:8080/",
     "height": 289
    },
    "colab_type": "code",
    "id": "OoMnere1UdA-",
    "outputId": "3c0d005e-bd14-42a6-9a1c-d76229c927dc"
   },
   "outputs": [
    {
     "name": "stdout",
     "output_type": "stream",
     "text": [
      "+-----------+--------------------+-----------+-------------------+-----------------+\n",
      "|customer_id|       product_title|star_rating|product_title_index|customer_id_index|\n",
      "+-----------+--------------------+-----------+-------------------+-----------------+\n",
      "|   10293599|Knockin' On Heave...|          5|              82560|             1397|\n",
      "|    6087195|            Flawless|          5|             777773|             1392|\n",
      "|   33717063|    Scandal of Grace|          4|             106759|             6787|\n",
      "|   14948020|  I Surrender (Live)|          5|              10969|             3363|\n",
      "|   21694522|We Are Young (Jer...|          4|               7349|            47101|\n",
      "|   14948020|        Lord, I Live|          5|              10969|           339136|\n",
      "|   20031966|  I'll Never Be Free|          5|               5671|            86772|\n",
      "|   12223745|    All of the Stars|          5|             282897|             5076|\n",
      "|   30231876|Exile On Main Str...|          5|             510931|            62486|\n",
      "|   51714365|     Bat Out Of Hell|          5|               9493|             2326|\n",
      "+-----------+--------------------+-----------+-------------------+-----------------+\n",
      "only showing top 10 rows\n",
      "\n"
     ]
    }
   ],
   "source": [
    "transformed.show(10, truncate=True)"
   ]
  },
  {
   "cell_type": "code",
   "execution_count": null,
   "metadata": {
    "colab": {},
    "colab_type": "code",
    "id": "WCa_DXlXzgTp"
   },
   "outputs": [],
   "source": [
    "# use this to deal with changed column names\n",
    "oldnames = transformed.schema.names\n",
    "newnames = ['customer_id', 'product_title', 'star_rating', 'product_title_index', 'customer_id_index']\n",
    "\n",
    "for i, name in enumerate(oldnames):\n",
    "    transformed = transformed.withColumnRenamed(name, newnames[i])"
   ]
  },
  {
   "cell_type": "code",
   "execution_count": null,
   "metadata": {
    "colab": {
     "base_uri": "https://localhost:8080/",
     "height": 102
    },
    "colab_type": "code",
    "id": "MrEeXlew1RgI",
    "outputId": "8c7a95b0-9c38-4528-cc69-ff0445360a6b"
   },
   "outputs": [
    {
     "data": {
      "text/plain": [
       "['customer_id',\n",
       " 'product_title',\n",
       " 'star_rating',\n",
       " 'product_title_index',\n",
       " 'customer_id_index']"
      ]
     },
     "execution_count": 20,
     "metadata": {
      "tags": []
     },
     "output_type": "execute_result"
    }
   ],
   "source": [
    "transformed.schema.names"
   ]
  },
  {
   "cell_type": "code",
   "execution_count": null,
   "metadata": {
    "colab": {},
    "colab_type": "code",
    "id": "pThIDd_l3EpL"
   },
   "outputs": [],
   "source": [
    "# this is used to change the dtype in case it's casuing issues when fitting the model\n",
    "transformed = transformed.withColumn('customer_id_index', transformed.customer_id_index.cast('int'))\n",
    "transformed = transformed.withColumn('product_title_index', transformed.product_title_index.cast('int'))\n",
    "transformed = transformed.withColumn('star_rating', transformed.star_rating.cast('int'))\n",
    "transformed = transformed.withColumn('customer_id', transformed.customer_id.cast('int'))"
   ]
  },
  {
   "cell_type": "code",
   "execution_count": null,
   "metadata": {
    "colab": {
     "base_uri": "https://localhost:8080/",
     "height": 102
    },
    "colab_type": "code",
    "id": "mQ9HQ1bwuCV7",
    "outputId": "c3713857-0734-48a1-da4f-6542a260eabe"
   },
   "outputs": [
    {
     "data": {
      "text/plain": [
       "[('customer_id', 'int'),\n",
       " ('product_title', 'string'),\n",
       " ('star_rating', 'int'),\n",
       " ('product_title_index', 'int'),\n",
       " ('customer_id_index', 'int')]"
      ]
     },
     "execution_count": 13,
     "metadata": {
      "tags": []
     },
     "output_type": "execute_result"
    }
   ],
   "source": [
    "transformed.dtypes"
   ]
  },
  {
   "cell_type": "code",
   "execution_count": null,
   "metadata": {
    "colab": {
     "base_uri": "https://localhost:8080/",
     "height": 119
    },
    "colab_type": "code",
    "id": "6G4-jUWYpnOc",
    "outputId": "6ada3b8a-255e-4f85-f9ca-5a4ac23d5fcb"
   },
   "outputs": [
    {
     "name": "stdout",
     "output_type": "stream",
     "text": [
      "+-----------+-------------+-----------+-------------------+-----------------+\n",
      "|customer_id|product_title|star_rating|product_title_index|customer_id_index|\n",
      "+-----------+-------------+-----------+-------------------+-----------------+\n",
      "|          0|            0|          0|                  0|                0|\n",
      "+-----------+-------------+-----------+-------------------+-----------------+\n",
      "\n"
     ]
    }
   ],
   "source": [
    "# check for nan values\n",
    "transformed.select([count(when(isnan(c), c)).alias(c) for c in transformed.columns]).show()"
   ]
  },
  {
   "cell_type": "code",
   "execution_count": null,
   "metadata": {
    "colab": {
     "base_uri": "https://localhost:8080/",
     "height": 119
    },
    "colab_type": "code",
    "id": "RHax7gfgrhg2",
    "outputId": "5bd21862-e90d-4257-8c60-e894d3246d73"
   },
   "outputs": [
    {
     "name": "stdout",
     "output_type": "stream",
     "text": [
      "+-----------+-------------+-----------+-------------------+-----------------+\n",
      "|customer_id|product_title|star_rating|product_title_index|customer_id_index|\n",
      "+-----------+-------------+-----------+-------------------+-----------------+\n",
      "|          0|            0|          0|                  0|                0|\n",
      "+-----------+-------------+-----------+-------------------+-----------------+\n",
      "\n"
     ]
    }
   ],
   "source": [
    "# IMPORTANT!!!!!!!!\n",
    "# THERE ARE THREE NULL VALUES IN THE DATA, USE both isNull and isnan to check\n",
    "transformed.select([count(when(isnan(c) | col(c).isNull(), c)).alias(c) for c in transformed.columns]).show()"
   ]
  },
  {
   "cell_type": "code",
   "execution_count": null,
   "metadata": {
    "colab": {},
    "colab_type": "code",
    "id": "MM8Xqz5Mvc4G"
   },
   "outputs": [],
   "source": [
    "# also, remember to drop rows with null values\n",
    "transformed = transformed.dropna()"
   ]
  },
  {
   "cell_type": "code",
   "execution_count": null,
   "metadata": {
    "colab": {},
    "colab_type": "code",
    "id": "phK33aXD5ooi"
   },
   "outputs": [],
   "source": [
    "# saving final dataset to csv\n",
    "transformed.write.overwrite.csv('transformed_data.csv')"
   ]
  },
  {
   "cell_type": "code",
   "execution_count": null,
   "metadata": {
    "colab": {},
    "colab_type": "code",
    "id": "1Cu1lBLnetES"
   },
   "outputs": [],
   "source": [
    "# split twice here to create holdout set for later testing\n",
    "(work_set, holdout) = transformed.randomSplit([0.8, 0.2])"
   ]
  },
  {
   "cell_type": "code",
   "execution_count": null,
   "metadata": {
    "colab": {},
    "colab_type": "code",
    "id": "-4Vl_jA8fq2s"
   },
   "outputs": [],
   "source": [
    "(training, test) = work_set.randomSplit([0.8, 0.2])"
   ]
  },
  {
   "cell_type": "code",
   "execution_count": null,
   "metadata": {
    "colab": {},
    "colab_type": "code",
    "id": "5aLx4CPTf0vt"
   },
   "outputs": [],
   "source": [
    "# params for baseline ALS model\n",
    "baseline_als = ALS(maxIter=5, regParam=0.01, \n",
    "                   userCol='customer_id', itemCol='product_title_index',\n",
    "                   ratingCol='star_rating', coldStartStrategy='drop', \n",
    "                   nonnegative=True)"
   ]
  },
  {
   "cell_type": "code",
   "execution_count": null,
   "metadata": {
    "colab": {},
    "colab_type": "code",
    "id": "IW7wNgemoBjz"
   },
   "outputs": [],
   "source": [
    "baseline_model = baseline_als.fit(training)"
   ]
  },
  {
   "cell_type": "code",
   "execution_count": null,
   "metadata": {
    "colab": {},
    "colab_type": "code",
    "id": "FqBkuB5mpPoB"
   },
   "outputs": [],
   "source": [
    "# saving baseline model\n",
    "baseline_model.save('baseline_model_v2')"
   ]
  },
  {
   "cell_type": "code",
   "execution_count": null,
   "metadata": {
    "colab": {},
    "colab_type": "code",
    "id": "VyjK2eKZmMCr"
   },
   "outputs": [],
   "source": [
    "baseline_predictions = baseline_model.transform(test)"
   ]
  },
  {
   "cell_type": "code",
   "execution_count": null,
   "metadata": {
    "colab": {},
    "colab_type": "code",
    "id": "jF4xqTFwfYEr"
   },
   "outputs": [],
   "source": [
    "baseline_holdoutpred = baseline_model.transform(holdout)"
   ]
  },
  {
   "cell_type": "code",
   "execution_count": null,
   "metadata": {
    "colab": {},
    "colab_type": "code",
    "id": "y0EPCDuNn1W0"
   },
   "outputs": [],
   "source": [
    "# use ALSModel not ALS to load persisted model\n",
    "from pyspark.ml.recommendation import ALSModel"
   ]
  },
  {
   "cell_type": "code",
   "execution_count": null,
   "metadata": {
    "colab": {},
    "colab_type": "code",
    "id": "OjUl4ujco7Nu"
   },
   "outputs": [],
   "source": [
    "path = '/content/drive/My Drive/Colab Notebooks/data/baseline_model'\n",
    "persistedModel = ALSModel.load(path)"
   ]
  },
  {
   "cell_type": "code",
   "execution_count": null,
   "metadata": {
    "colab": {},
    "colab_type": "code",
    "id": "1GzviL78rYgm"
   },
   "outputs": [],
   "source": [
    "baseline_predictions2 = persistedModel.transform(test)"
   ]
  },
  {
   "cell_type": "code",
   "execution_count": null,
   "metadata": {
    "colab": {
     "base_uri": "https://localhost:8080/",
     "height": 119
    },
    "colab_type": "code",
    "id": "zknR6hVAtQE5",
    "outputId": "2b17bffc-26a4-4abe-87a5-adbf708597b3"
   },
   "outputs": [
    {
     "data": {
      "text/plain": [
       "['customer_id',\n",
       " 'product_title',\n",
       " 'star_rating',\n",
       " 'product_title_index',\n",
       " 'customer_id_index',\n",
       " 'prediction']"
      ]
     },
     "execution_count": 21,
     "metadata": {
      "tags": []
     },
     "output_type": "execute_result"
    }
   ],
   "source": [
    "baseline_predictions.columns"
   ]
  },
  {
   "cell_type": "code",
   "execution_count": null,
   "metadata": {
    "colab": {
     "base_uri": "https://localhost:8080/",
     "height": 459
    },
    "colab_type": "code",
    "id": "t3-PJX2WtiEt",
    "outputId": "9b81bac8-a645-495b-df5c-caa9e552dc16"
   },
   "outputs": [
    {
     "name": "stdout",
     "output_type": "stream",
     "text": [
      "+----------+\n",
      "|prediction|\n",
      "+----------+\n",
      "|  4.777439|\n",
      "|  4.665684|\n",
      "| 4.9995794|\n",
      "| 4.9250536|\n",
      "| 4.5987654|\n",
      "|  4.498161|\n",
      "| 4.7985516|\n",
      "| 3.9973154|\n",
      "| 2.6655726|\n",
      "| 3.9982824|\n",
      "|  4.198654|\n",
      "|  4.999115|\n",
      "|  4.998976|\n",
      "| 4.9985247|\n",
      "|  4.998269|\n",
      "| 4.7988133|\n",
      "| 4.8867493|\n",
      "|  4.999251|\n",
      "|  4.998774|\n",
      "|  4.999388|\n",
      "+----------+\n",
      "only showing top 20 rows\n",
      "\n"
     ]
    }
   ],
   "source": [
    "baseline_predictions.select('prediction').distinct().show()"
   ]
  },
  {
   "cell_type": "code",
   "execution_count": null,
   "metadata": {
    "colab": {},
    "colab_type": "code",
    "id": "PoEWM2QLrzXy"
   },
   "outputs": [],
   "source": [
    "evaluator = RegressionEvaluator(metricName=\"rmse\", labelCol=\"star_rating\",predictionCol=\"prediction\")"
   ]
  },
  {
   "cell_type": "code",
   "execution_count": null,
   "metadata": {
    "colab": {},
    "colab_type": "code",
    "id": "mzUAlxxKY8ft"
   },
   "outputs": [],
   "source": [
    "map_eval = RegressionEvaluator(metricName='map', labelCol='star_rating', predictionCol='prediction')"
   ]
  },
  {
   "cell_type": "code",
   "execution_count": null,
   "metadata": {
    "colab": {},
    "colab_type": "code",
    "id": "PrXq5LD0r20V"
   },
   "outputs": [],
   "source": [
    "rmse = evaluator.evaluate(baseline_predictions)"
   ]
  },
  {
   "cell_type": "code",
   "execution_count": null,
   "metadata": {
    "colab": {},
    "colab_type": "code",
    "id": "er3F1ywOfD-1"
   },
   "outputs": [],
   "source": [
    "rmse_holdout = evaluator.evaluate(baseline_holdoutpred)"
   ]
  },
  {
   "cell_type": "code",
   "execution_count": null,
   "metadata": {
    "colab": {},
    "colab_type": "code",
    "id": "GylzVzBgZJm6"
   },
   "outputs": [],
   "source": [
    "map_score = evaluator.evaluate(baseline_predictions)"
   ]
  },
  {
   "cell_type": "code",
   "execution_count": null,
   "metadata": {
    "colab": {
     "base_uri": "https://localhost:8080/",
     "height": 34
    },
    "colab_type": "code",
    "id": "HhETUJ_Ush5K",
    "outputId": "8c6a9687-f855-4a8d-c54c-344f482c3529"
   },
   "outputs": [
    {
     "data": {
      "text/plain": [
       "0.8038922504895376"
      ]
     },
     "execution_count": 26,
     "metadata": {
      "tags": []
     },
     "output_type": "execute_result"
    }
   ],
   "source": [
    "rmse"
   ]
  },
  {
   "cell_type": "code",
   "execution_count": null,
   "metadata": {
    "colab": {
     "base_uri": "https://localhost:8080/",
     "height": 34
    },
    "colab_type": "code",
    "id": "w0fxlSrkfgPX",
    "outputId": "3a588d61-9b60-4c24-94e8-82f639dfacdd"
   },
   "outputs": [
    {
     "data": {
      "text/plain": [
       "0.8020742127639935"
      ]
     },
     "execution_count": 34,
     "metadata": {
      "tags": []
     },
     "output_type": "execute_result"
    }
   ],
   "source": [
    "rmse_holdout"
   ]
  },
  {
   "cell_type": "code",
   "execution_count": null,
   "metadata": {
    "colab": {
     "base_uri": "https://localhost:8080/",
     "height": 34
    },
    "colab_type": "code",
    "id": "WnAWYJ6bZP7A",
    "outputId": "5c161493-6655-49f9-a277-5bf19421d2ca"
   },
   "outputs": [
    {
     "data": {
      "text/plain": [
       "0.8038922504895375"
      ]
     },
     "execution_count": 29,
     "metadata": {
      "tags": []
     },
     "output_type": "execute_result"
    }
   ],
   "source": [
    "map_score"
   ]
  },
  {
   "cell_type": "markdown",
   "metadata": {
    "colab_type": "text",
    "id": "NNIYUmj_YCTl"
   },
   "source": [
    "baseline v2 has rmse of 0.8038922504895376 on testing set after fixing the customer id index issue"
   ]
  },
  {
   "cell_type": "markdown",
   "metadata": {
    "colab_type": "text",
    "id": "xl3UtYzYeYmS"
   },
   "source": [
    "\n",
    "\n",
    "\n"
   ]
  },
  {
   "cell_type": "code",
   "execution_count": null,
   "metadata": {
    "colab": {},
    "colab_type": "code",
    "id": "XaFtGvl1xg7l"
   },
   "outputs": [],
   "source": [
    "from pyspark.ml.tuning import CrossValidator, ParamGridBuilder"
   ]
  },
  {
   "cell_type": "code",
   "execution_count": null,
   "metadata": {
    "colab": {},
    "colab_type": "code",
    "id": "aBmB67ufd__M"
   },
   "outputs": [],
   "source": [
    "als_cv_model = ALS(userCol='customer_id', itemCol='product_title_index', ratingCol='star_rating', coldStartStrategy='drop')"
   ]
  },
  {
   "cell_type": "code",
   "execution_count": null,
   "metadata": {
    "colab": {},
    "colab_type": "code",
    "id": "YFe-I4VCaGMo"
   },
   "outputs": [],
   "source": [
    "paramGrid = ParamGridBuilder() \\\n",
    "                .addGrid(als_cv_model.rank, [5, 15]) \\\n",
    "                .addGrid(als_cv_model.maxIter, [5, 15]) \\\n",
    "                .addGrid(als_cv_model.regParam, [0.1, 0.01]) \\\n",
    "                .addGrid(als_cv_model.nonnegative, [True, False]) \\\n",
    "                .addGrid(als_cv_model.alpha, [1, 2]) \\\n",
    "                .addGrid(als_cv_model.seed, [88]) \\\n",
    "                .build()"
   ]
  },
  {
   "cell_type": "code",
   "execution_count": null,
   "metadata": {
    "colab": {},
    "colab_type": "code",
    "id": "DtBn6F1ktZHg"
   },
   "outputs": [],
   "source": [
    "cv = CrossValidator(estimator=als_cv_model,\n",
    "                    estimatorParamMaps=paramGrid,\n",
    "                    evaluator=evaluator,\n",
    "                    numFolds=5)"
   ]
  },
  {
   "cell_type": "code",
   "execution_count": null,
   "metadata": {
    "colab": {},
    "colab_type": "code",
    "id": "2W15u6amtv1v"
   },
   "outputs": [],
   "source": [
    "cv_fitted = cv.fit(training)"
   ]
  },
  {
   "cell_type": "code",
   "execution_count": null,
   "metadata": {
    "colab": {},
    "colab_type": "code",
    "id": "TBQ7LMbRt0C1"
   },
   "outputs": [],
   "source": [
    "best_cv_model = cv_fitted.bestModel"
   ]
  },
  {
   "cell_type": "code",
   "execution_count": null,
   "metadata": {
    "colab": {},
    "colab_type": "code",
    "id": "In5-50bwIPCm"
   },
   "outputs": [],
   "source": [
    "best_cv_pred = best_cv_model.transform(test)"
   ]
  },
  {
   "cell_type": "code",
   "execution_count": null,
   "metadata": {
    "colab": {},
    "colab_type": "code",
    "id": "M0HH7eCnIQz5"
   },
   "outputs": [],
   "source": [
    "best_cv_rmse = evaluator.evaluate(best_cv_pred)"
   ]
  },
  {
   "cell_type": "code",
   "execution_count": null,
   "metadata": {
    "colab": {
     "base_uri": "https://localhost:8080/",
     "height": 34
    },
    "colab_type": "code",
    "id": "UYmuH1KyIbOb",
    "outputId": "1ad493a0-a8e2-4dee-bea8-675d163f75d1"
   },
   "outputs": [
    {
     "data": {
      "text/plain": [
       "0.794830886083656"
      ]
     },
     "execution_count": 56,
     "metadata": {
      "tags": []
     },
     "output_type": "execute_result"
    }
   ],
   "source": [
    "best_cv_rmse"
   ]
  },
  {
   "cell_type": "code",
   "execution_count": null,
   "metadata": {
    "colab": {},
    "colab_type": "code",
    "id": "ehMg6E0TIckA"
   },
   "outputs": [],
   "source": [
    "best_cv_model.save('best_cv_model')"
   ]
  },
  {
   "cell_type": "code",
   "execution_count": null,
   "metadata": {
    "colab": {
     "base_uri": "https://localhost:8080/",
     "height": 34
    },
    "colab_type": "code",
    "id": "Ec4t-xGhI0sO",
    "outputId": "9c3849ef-0edd-4b17-83bc-b579112c5ed9"
   },
   "outputs": [
    {
     "name": "stdout",
     "output_type": "stream",
     "text": [
      "/content\n"
     ]
    }
   ],
   "source": [
    "!pwd"
   ]
  },
  {
   "cell_type": "code",
   "execution_count": null,
   "metadata": {
    "colab": {},
    "colab_type": "code",
    "id": "F3c9tFxeMh5R"
   },
   "outputs": [],
   "source": []
  }
 ],
 "metadata": {
  "colab": {
   "machine_shape": "hm",
   "name": "Copy of music-recommender-baselinebuild.ipynb",
   "provenance": [],
   "toc_visible": true
  },
  "kernelspec": {
   "display_name": "Python 3",
   "language": "python",
   "name": "python3"
  },
  "language_info": {
   "codemirror_mode": {
    "name": "ipython",
    "version": 3
   },
   "file_extension": ".py",
   "mimetype": "text/x-python",
   "name": "python",
   "nbconvert_exporter": "python",
   "pygments_lexer": "ipython3",
   "version": "3.7.7"
  }
 },
 "nbformat": 4,
 "nbformat_minor": 4
}
